{
 "cells": [
  {
   "cell_type": "markdown",
   "id": "a4e8a985",
   "metadata": {},
   "source": [
    "Practica 1. Seminario de Ciencia de Datos\n",
    "\n",
    "Calidad de Datos\n",
    "\n",
    "Spotify te contrató como consultor para un proyecto el cual esta a cargo de la área de Data\n",
    "Quality, el problema de la calidad de datos de esta base proviene principalmente de los\n",
    "artístas que son los que ingresan los datos de sus canciones, por lo cual tenemos una gran\n",
    "oportunidad para poder limpiar, estandarizar y mejorar la información para tener una mejor\n",
    "toma de decisiones."
   ]
  },
  {
   "cell_type": "markdown",
   "id": "8c21b16d",
   "metadata": {},
   "source": [
    "1. Con los datos proporcionados realiza los siguientes puntos:"
   ]
  },
  {
   "cell_type": "code",
   "execution_count": 88,
   "id": "cca75d49",
   "metadata": {},
   "outputs": [
    {
     "name": "stdout",
     "output_type": "stream",
     "text": [
      "acousticness        float64\n",
      "artists              object\n",
      "danceability        float64\n",
      "duration_ms           int64\n",
      "energy              float64\n",
      "explicit            float64\n",
      "id                   object\n",
      "instrumentalness    float64\n",
      "key                 float64\n",
      "liveness            float64\n",
      "loudness            float64\n",
      "mode                  int64\n",
      "name                 object\n",
      "popularity          float64\n",
      "release_date         object\n",
      "speechiness         float64\n",
      "tempo               float64\n",
      "valence             float64\n",
      "zip Code             object\n",
      "genero               object\n",
      "dtype: object\n"
     ]
    }
   ],
   "source": [
    "'''(a) Realiza el etiquetado de las variables de acuerdo a su tipo de variable'''\n",
    "\n",
    "#Cargamos librerias y vemos los tipos de datos\n",
    "import pandas as pd \n",
    "spotifydata = pd.read_excel('spotify_practica.xlsx')\n",
    "print(spotifydata.dtypes)\n",
    "\n",
    "#Etiquetamos variables\n",
    "d_feats = ['duration_ms', 'mode', 'zip Code']\n",
    "c_feats = ['acousticness', 'danceability', 'energy', 'explicit', 'instrumentalness', 'key', 'liveness', 'loudness', 'popularity', 'speechiness', 'tempo', 'valence']\n",
    "s_feats = ['artists', 'id', 'name', 'genero']\n",
    "t_feats = ['release_date']\n",
    "\n",
    "d_feats_new = [\"d_\" + x for x in d_feats]\n",
    "c_feats_new = [\"c_\" + x for x in c_feats]\n",
    "s_feats_new = [\"s_\" + x for x in s_feats]\n",
    "t_feats_new = [\"t_\" + x for x in t_feats]\n",
    "\n",
    "spotifydata.rename(columns = dict(zip(c_feats, c_feats_new)), inplace = True)\n",
    "spotifydata.rename(columns = dict(zip(d_feats, d_feats_new)), inplace = True)\n",
    "spotifydata.rename(columns = dict(zip(t_feats, t_feats_new)), inplace = True)\n",
    "spotifydata.rename(columns = dict(zip(s_feats, s_feats_new)), inplace = True)"
   ]
  },
  {
   "cell_type": "code",
   "execution_count": 89,
   "id": "df266c61",
   "metadata": {},
   "outputs": [
    {
     "name": "stdout",
     "output_type": "stream",
     "text": [
      "(170349, 20)\n",
      "(169985, 20)\n",
      "Eliminamos 364 registros duplicados\n"
     ]
    }
   ],
   "source": [
    "'''(b) Imprime cuántos duplicados hay en la base de datos y elíminalos'''\n",
    "\n",
    "print(spotifydata.shape)\n",
    "antes = spotifydata.shape[0]\n",
    "spotifydata.drop_duplicates(inplace=True)\n",
    "spotifydata.reset_index(drop=True,inplace=True)\n",
    "print(spotifydata.shape)\n",
    "print('Eliminamos', antes-spotifydata.shape[0], 'registros duplicados')"
   ]
  },
  {
   "cell_type": "code",
   "execution_count": 90,
   "id": "e1ad52ee",
   "metadata": {},
   "outputs": [
    {
     "name": "stdout",
     "output_type": "stream",
     "text": [
      "               columna  nulos_total  completitud\n",
      "5           c_explicit        62905        62.99\n",
      "8                c_key        35759        78.96\n",
      "13        c_popularity         3501        97.94\n",
      "19            s_genero         1698        99.00\n",
      "3        d_duration_ms            0       100.00\n",
      "4             c_energy            0       100.00\n",
      "2       c_danceability            0       100.00\n",
      "0       c_acousticness            0       100.00\n",
      "7   c_instrumentalness            0       100.00\n",
      "6                 s_id            0       100.00\n",
      "10          c_loudness            0       100.00\n",
      "9           c_liveness            0       100.00\n",
      "11              d_mode            0       100.00\n",
      "12              s_name            0       100.00\n",
      "14      t_release_date            0       100.00\n",
      "1            s_artists            0       100.00\n",
      "15       c_speechiness            0       100.00\n",
      "16             c_tempo            0       100.00\n",
      "17           c_valence            0       100.00\n",
      "18          d_zip Code            0       100.00\n"
     ]
    }
   ],
   "source": [
    "'''(c) Realiza la completitud de las variables'''\n",
    "\n",
    "#Como vimos en clase, voy a crear un dataframe auxiliar para ver la completitud de los datos\n",
    "completitudDat = pd.DataFrame(spotifydata.isnull().sum())\n",
    "completitudDat.reset_index(inplace=True)\n",
    "completitudDat.rename(columns={'index':'columna', 0:'nulos_total'}, inplace=True)\n",
    "completitudDat['completitud'] = ((1 - completitudDat['nulos_total'] / spotifydata.shape[0]) * 100).round(2)\n",
    "completitudDat = completitudDat.sort_values(by='completitud', ascending=True)\n",
    "print(completitudDat)\n"
   ]
  },
  {
   "cell_type": "code",
   "execution_count": 91,
   "id": "26953e54",
   "metadata": {},
   "outputs": [
    {
     "name": "stdout",
     "output_type": "stream",
     "text": [
      "(169985, 20)\n",
      "(169985, 18)\n"
     ]
    }
   ],
   "source": [
    "'''(d) Elimina las variables que tengan el 20% o más de valores ausentes'''\n",
    "\n",
    "print(spotifydata.shape)\n",
    "spotifydata = spotifydata.drop(columns=['c_explicit', 'c_key'])\n",
    "print(spotifydata.shape)\n",
    "#Se eliminaron exitosamente las dos columnas"
   ]
  },
  {
   "cell_type": "code",
   "execution_count": 92,
   "id": "e7d1bfc5",
   "metadata": {},
   "outputs": [
    {
     "name": "stdout",
     "output_type": "stream",
     "text": [
      "Hay 4341 codigos postales con letras\n"
     ]
    }
   ],
   "source": [
    "'''(e)¿Cuántos de los registros en la variable “zip Code” son valores no válidos?, es decir, contienen letras'''\n",
    "\n",
    "num = spotifydata['d_zip Code'].str.contains(r\"[A-Za-z]\", na=False).sum()\n",
    "print('Hay',num,'codigos postales con letras')"
   ]
  },
  {
   "cell_type": "code",
   "execution_count": 93,
   "id": "c1be0508",
   "metadata": {},
   "outputs": [
    {
     "name": "stdout",
     "output_type": "stream",
     "text": [
      "Nos quedamos con 165644 registros\n"
     ]
    }
   ],
   "source": [
    "'''(f) Elimina los registros que no tengas un “zip Code” válidos.'''\n",
    "\n",
    "spotifydata = spotifydata[~spotifydata['d_zip Code'].str.contains(r\"[A-Za-z]\", na=False)]\n",
    "print('Nos quedamos con', spotifydata.shape[0],'registros')\n"
   ]
  },
  {
   "cell_type": "code",
   "execution_count": 94,
   "id": "f182e8a7",
   "metadata": {},
   "outputs": [
    {
     "name": "stdout",
     "output_type": "stream",
     "text": [
      "Hay 8 registros de genero con letras\n"
     ]
    }
   ],
   "source": [
    "'''(g) ¿Cuántos de los registros en la variable “genero” son valores no validos?, es decir, contienen letras'''\n",
    "\n",
    "num = spotifydata['s_genero'].str.contains(r\"[A-Za-z]\", na=False).sum()\n",
    "print('Hay',num,'registros de genero con letras')"
   ]
  },
  {
   "cell_type": "code",
   "execution_count": 95,
   "id": "5ac46fd7",
   "metadata": {},
   "outputs": [
    {
     "name": "stdout",
     "output_type": "stream",
     "text": [
      "Nos quedamos con 165636 registros\n"
     ]
    }
   ],
   "source": [
    "'''(h) Elimina los registros que no tengas un “genero” válido, es decir contenga letras en los valores'''\n",
    "\n",
    "spotifydata = spotifydata[~spotifydata['s_genero'].str.contains(r\"[A-Za-z]\", na=False)]\n",
    "print('Nos quedamos con', spotifydata.shape[0],'registros')\n"
   ]
  },
  {
   "cell_type": "code",
   "execution_count": 96,
   "id": "d64f9670",
   "metadata": {},
   "outputs": [
    {
     "name": "stdout",
     "output_type": "stream",
     "text": [
      "24                                   crypts of eternity\n",
      "25                                mi sombra en la pared\n",
      "26                                          knocked out\n",
      "27                                              zumbale\n",
      "28    walkin blues acoustic live at mtv unplugged br...\n",
      "Name: s_name, dtype: object\n"
     ]
    }
   ],
   "source": [
    "'''(i) Haz una limpieza de la variable “name”, elimina caracteres especiales y todo debe estar en minúsculas'''\n",
    "\n",
    "#Creamos una funcion que elimine caracteres especiales\n",
    "import unicodedata\n",
    "import re\n",
    "def clean_text(text, pattern=\"[^a-zA-Z0-9 ]\"):\n",
    "    \n",
    "    cleaned_text = unicodedata.normalize('NFD', text).encode('ascii', 'ignore')\n",
    "    cleaned_text = re.sub(pattern, \" \", cleaned_text.decode(\"utf-8\"), flags=re.UNICODE)\n",
    "    cleaned_text = u' '.join(cleaned_text.lower().strip().split())\n",
    "    return cleaned_text\n",
    "\n",
    "#Limpiamos aplicando la funcion\n",
    "spotifydata['s_name'] = spotifydata['s_name'].astype(str) #Agregamos esto porque parece que habia algunos registros que no eran string\n",
    "spotifydata['s_name'] = spotifydata['s_name'].map(lambda x: clean_text(x.lower()).strip().replace('\\n',''))\n",
    "print(spotifydata['s_name'].head())"
   ]
  },
  {
   "cell_type": "code",
   "execution_count": 97,
   "id": "264e09a6",
   "metadata": {},
   "outputs": [
    {
     "name": "stdout",
     "output_type": "stream",
     "text": [
      "['Slayer']\n",
      "24               slayer\n",
      "25    miguel mateos zas\n",
      "26          paula abdul\n",
      "27           henry fiol\n",
      "28         eric clapton\n",
      "Name: s_artists, dtype: object\n"
     ]
    }
   ],
   "source": [
    "'''(j) De la variable “artista” selecciona solo al primer artista que aparezca en la lista además de eliminar caracteres especiales e imprime los primeros 5 artistas que\n",
    "aparecen en tu dataframe hasta este momento.'''\n",
    "\n",
    "print(spotifydata['s_artists'].iloc[0])\n",
    "\n",
    "#Limpiamos aplicando la funcion\n",
    "spotifydata['s_artists'] = spotifydata['s_artists'].map(lambda x: clean_text(x.lower()).strip().replace('\\n',''))\n",
    "print(spotifydata['s_artists'].head())"
   ]
  },
  {
   "cell_type": "code",
   "execution_count": 101,
   "id": "64269246",
   "metadata": {},
   "outputs": [
    {
     "name": "stdout",
     "output_type": "stream",
     "text": [
      "10\n"
     ]
    }
   ],
   "source": [
    "'''(k)Normaliza la variable “genero” de tal forma que obtengas solo 10 categorías'''\n",
    "\n",
    "spotifydata.loc[spotifydata['s_genero'].isin(['49.0', '48.0', '12.0', '47.0', '20.0', '50.0']), 's_genero'] = 'Otros'\n",
    "print(len(spotifydata['s_genero'].unique()))"
   ]
  },
  {
   "cell_type": "code",
   "execution_count": null,
   "id": "37094b40",
   "metadata": {},
   "outputs": [],
   "source": [
    "'''(l) Añade las siguientes columnas a tu table base: zip, lat, lng, city, state_name utilizando la tabla zips_practica'''\n",
    "\n"
   ]
  }
 ],
 "metadata": {
  "kernelspec": {
   "display_name": "Python 3",
   "language": "python",
   "name": "python3"
  },
  "language_info": {
   "codemirror_mode": {
    "name": "ipython",
    "version": 3
   },
   "file_extension": ".py",
   "mimetype": "text/x-python",
   "name": "python",
   "nbconvert_exporter": "python",
   "pygments_lexer": "ipython3",
   "version": "3.11.9"
  }
 },
 "nbformat": 4,
 "nbformat_minor": 5
}
