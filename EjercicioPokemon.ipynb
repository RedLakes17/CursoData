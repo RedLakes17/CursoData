{
 "cells": [
  {
   "cell_type": "code",
   "execution_count": 18,
   "id": "e9b0f713",
   "metadata": {},
   "outputs": [
    {
     "data": {
      "text/plain": [
       "' \\nCarga el dataset ‘Pokedex.csv’:\\nEn una linea muestra cuántos registros (filas) tenemos\\nMuestra todas las columnas del dataset y ademas cuántas tiene el dataset\\nRealiza el etiquetado de variables\\nRevisa si hay duplicados y eliminalos, ¿Cuántos duplicados hay?\\nGenera una nueva variable nombre_pokemon que sea el nombre del pokemon basada en la columna japanese_name\\nRevisa la completitud, elimina las variables que consideres de acuerdo a su completitud\\n\\n'"
      ]
     },
     "execution_count": 18,
     "metadata": {},
     "output_type": "execute_result"
    }
   ],
   "source": [
    "''' \n",
    "Carga el dataset ‘Pokedex.csv’:\n",
    "En una linea muestra cuántos registros (filas) tenemos\n",
    "Muestra todas las columnas del dataset y ademas cuántas tiene el dataset\n",
    "Realiza el etiquetado de variables\n",
    "Revisa si hay duplicados y eliminalos, ¿Cuántos duplicados hay?\n",
    "Genera una nueva variable nombre_pokemon que sea el nombre del pokemon basada en la columna japanese_name\n",
    "Revisa la completitud, elimina las variables que consideres de acuerdo a su completitud\n",
    "\n",
    "'''"
   ]
  },
  {
   "cell_type": "code",
   "execution_count": 19,
   "id": "2664d4b8",
   "metadata": {},
   "outputs": [
    {
     "name": "stdout",
     "output_type": "stream",
     "text": [
      "   Unnamed: 0.1  Unnamed: 0  pokedex_number           name german_name  \\\n",
      "0             0           0               1      Bulbasaur     Bisasam   \n",
      "1             1           1               2        Ivysaur   Bisaknosp   \n",
      "2             2           2               3       Venusaur    Bisaflor   \n",
      "3             3           3               3  Mega Venusaur    Bisaflor   \n",
      "4             4           4               4     Charmander    Glumanda   \n",
      "\n",
      "         japanese_name  generation  status         species  type_number  ...  \\\n",
      "0  フシギダネ (Fushigidane)           1  Normal    Seed Pokémon            2  ...   \n",
      "1   フシギソウ (Fushigisou)           1  Normal    Seed Pokémon            2  ...   \n",
      "2  フシギバナ (Fushigibana)           1  Normal    Seed Pokémon            2  ...   \n",
      "3  フシギバナ (Fushigibana)           1  Normal    Seed Pokémon            2  ...   \n",
      "4      ヒトカゲ (Hitokage)           1  Normal  Lizard Pokémon            1  ...   \n",
      "\n",
      "  against_flying against_psychic  against_bug  against_rock  against_ghost  \\\n",
      "0            2.0             2.0          1.0           1.0            1.0   \n",
      "1            2.0             2.0          1.0           1.0            1.0   \n",
      "2            2.0             2.0          1.0           1.0            1.0   \n",
      "3            2.0             2.0          1.0           1.0            1.0   \n",
      "4            1.0             1.0          0.5           2.0            1.0   \n",
      "\n",
      "  against_dragon against_dark against_steel  against_fairy  power  \n",
      "0            1.0          1.0           1.0            0.5    NaN  \n",
      "1            1.0          1.0           1.0            0.5    NaN  \n",
      "2            1.0          1.0           1.0            0.5    NaN  \n",
      "3            1.0          1.0           1.0            0.5    NaN  \n",
      "4            1.0          1.0           0.5            0.5    NaN  \n",
      "\n",
      "[5 rows x 53 columns]\n"
     ]
    }
   ],
   "source": [
    "import pandas as pd\n",
    "\n",
    "pokedat = pd.read_csv('Pokedex.csv')\n",
    "print(pokedat.head())"
   ]
  },
  {
   "cell_type": "code",
   "execution_count": 20,
   "id": "83cd3821",
   "metadata": {},
   "outputs": [
    {
     "name": "stdout",
     "output_type": "stream",
     "text": [
      "1058\n",
      "Index(['Unnamed: 0.1', 'Unnamed: 0', 'pokedex_number', 'name', 'german_name',\n",
      "       'japanese_name', 'generation', 'status', 'species', 'type_number',\n",
      "       'type_1', 'type_2', 'height_m', 'weight_kg', 'abilities_number',\n",
      "       'ability_1', 'ability_2', 'ability_hidden', 'total_points', 'hp',\n",
      "       'attack', 'defense', 'sp_attack', 'sp_defense', 'speed', 'catch_rate',\n",
      "       'base_friendship', 'base_experience', 'growth_rate', 'egg_type_number',\n",
      "       'egg_type_1', 'egg_type_2', 'percentage_male', 'egg_cycles',\n",
      "       'against_normal', 'against_fire', 'against_water', 'against_electric',\n",
      "       'against_grass', 'against_ice', 'against_fight', 'against_poison',\n",
      "       'against_ground', 'against_flying', 'against_psychic', 'against_bug',\n",
      "       'against_rock', 'against_ghost', 'against_dragon', 'against_dark',\n",
      "       'against_steel', 'against_fairy', 'power'],\n",
      "      dtype='object')\n",
      "53\n"
     ]
    }
   ],
   "source": [
    "print(pokedat.shape[0])\n",
    "print(pokedat.columns)\n",
    "print(len(pokedat.columns))"
   ]
  },
  {
   "cell_type": "code",
   "execution_count": 21,
   "id": "b1a78ca4",
   "metadata": {},
   "outputs": [
    {
     "name": "stdout",
     "output_type": "stream",
     "text": [
      "Unnamed: 0.1          int64\n",
      "Unnamed: 0            int64\n",
      "pokedex_number        int64\n",
      "name                 object\n",
      "german_name          object\n",
      "japanese_name        object\n",
      "generation            int64\n",
      "status               object\n",
      "species              object\n",
      "type_number           int64\n",
      "type_1               object\n",
      "type_2               object\n",
      "height_m            float64\n",
      "weight_kg           float64\n",
      "abilities_number      int64\n",
      "ability_1            object\n",
      "ability_2            object\n",
      "ability_hidden       object\n",
      "total_points          int64\n",
      "hp                    int64\n",
      "attack                int64\n",
      "defense               int64\n",
      "sp_attack             int64\n",
      "sp_defense            int64\n",
      "speed                 int64\n",
      "catch_rate          float64\n",
      "base_friendship     float64\n",
      "base_experience     float64\n",
      "growth_rate          object\n",
      "egg_type_number       int64\n",
      "egg_type_1           object\n",
      "egg_type_2           object\n",
      "percentage_male     float64\n",
      "egg_cycles          float64\n",
      "against_normal      float64\n",
      "against_fire        float64\n",
      "against_water       float64\n",
      "against_electric    float64\n",
      "against_grass       float64\n",
      "against_ice         float64\n",
      "against_fight       float64\n",
      "against_poison      float64\n",
      "against_ground      float64\n",
      "against_flying      float64\n",
      "against_psychic     float64\n",
      "against_bug         float64\n",
      "against_rock        float64\n",
      "against_ghost       float64\n",
      "against_dragon      float64\n",
      "against_dark        float64\n",
      "against_steel       float64\n",
      "against_fairy       float64\n",
      "power               float64\n",
      "dtype: object\n"
     ]
    }
   ],
   "source": [
    "print(pokedat.dtypes)\n",
    "\n",
    "c_feats = ['height_m', 'weight_kg', 'catch_rate',\n",
    "       'base_friendship', 'base_experience', 'percentage_male', 'egg_cycles',\n",
    "       'against_normal', 'against_fire', 'against_water', 'against_electric',\n",
    "       'against_grass', 'against_ice', 'against_fight', 'against_poison',\n",
    "       'against_ground', 'against_flying', 'against_psychic', 'against_bug',\n",
    "       'against_rock', 'against_ghost', 'against_dragon', 'against_dark',\n",
    "       'against_steel', 'against_fairy', 'power']\n",
    "\n",
    "d_feats = ['Unnamed: 0.1', 'Unnamed: 0', 'pokedex_number','generation', 'type_number', 'abilities_number',\n",
    "       'total_points', 'hp', 'attack', 'defense', 'sp_attack', 'sp_defense', 'speed', 'egg_type_number']\n",
    "\n",
    "s_feats = ['name', 'german_name', 'japanese_name', 'status', 'species', 'type1', 'type2', 'ability1', 'ability2', 'ability_hidden', 'growth_rate', 'egg_type1', 'egg_type2']"
   ]
  },
  {
   "cell_type": "code",
   "execution_count": 28,
   "id": "e06cb068",
   "metadata": {},
   "outputs": [
    {
     "name": "stdout",
     "output_type": "stream",
     "text": [
      "13\n",
      "0       フシギダネ (Fushigidane)\n",
      "1        フシギソウ (Fushigisou)\n",
      "2       フシギバナ (Fushigibana)\n",
      "3       フシギバナ (Fushigibana)\n",
      "4           ヒトカゲ (Hitokage)\n",
      "               ...         \n",
      "1053    フシギバナ (Fushigibana)\n",
      "1054     ミツハニー (Mitsuhoney)\n",
      "1055        アギルダー (Agilder)\n",
      "1056         コモルー (Komoruu)\n",
      "1057        マシェード (Mashade)\n",
      "Name: japanese_name, Length: 1058, dtype: object\n"
     ]
    }
   ],
   "source": [
    "print(pokedat.duplicated().sum())\n",
    "\n",
    "nombre_pokemon = pokedat['japanese_name']\n",
    "print(nombre_pokemon)"
   ]
  }
 ],
 "metadata": {
  "kernelspec": {
   "display_name": "Python 3",
   "language": "python",
   "name": "python3"
  },
  "language_info": {
   "codemirror_mode": {
    "name": "ipython",
    "version": 3
   },
   "file_extension": ".py",
   "mimetype": "text/x-python",
   "name": "python",
   "nbconvert_exporter": "python",
   "pygments_lexer": "ipython3",
   "version": "3.11.9"
  }
 },
 "nbformat": 4,
 "nbformat_minor": 5
}
